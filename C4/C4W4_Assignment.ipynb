{
 "cells": [
  {
   "cell_type": "markdown",
   "metadata": {},
   "source": [
    "# Week 4: Using real world data\n",
    "\n",
    "Welcome! So far you have worked exclusively with generated data. This time you will be using the [Daily Minimum Temperatures in Melbourne](https://github.com/jbrownlee/Datasets/blob/master/daily-min-temperatures.csv) dataset which contains data of the daily minimum temperatures recorded in Melbourne from 1981 to 1990. In addition to be using Tensorflow's layers for processing sequence data such as Recurrent layers or LSTMs you will also use Convolutional layers to improve the model's performance.\n",
    "\n",
    "Let's get started!"
   ]
  },
  {
   "cell_type": "markdown",
   "metadata": {},
   "source": [
    "_**NOTE:** To prevent errors from the autograder, you are not allowed to edit or delete some of the cells in this notebook . Please only put your solutions in between the `### START CODE HERE` and `### END CODE HERE` code comments, and also refrain from adding any new cells. **Once you have passed this assignment** and want to experiment with any of the locked cells, you may follow the instructions at the bottom of this notebook._"
   ]
  },
  {
   "cell_type": "code",
   "execution_count": 1,
   "metadata": {
    "colab": {
     "base_uri": "https://localhost:8080/"
    },
    "deletable": false,
    "editable": false,
    "id": "56XEQOGknrAk",
    "outputId": "6b8ab5ea-ed49-40d2-a27c-d2ba08710ba0"
   },
   "outputs": [],
   "source": [
    "import csv\n",
    "import pickle\n",
    "import numpy as np\n",
    "import tensorflow as tf\n",
    "import matplotlib.pyplot as plt\n",
    "from dataclasses import dataclass\n",
    "from absl import logging\n",
    "logging.set_verbosity(logging.ERROR)"
   ]
  },
  {
   "cell_type": "markdown",
   "metadata": {},
   "source": [
    "Begin by looking at the structure of the csv that contains the data:"
   ]
  },
  {
   "cell_type": "code",
   "execution_count": 2,
   "metadata": {
    "deletable": false,
    "editable": false
   },
   "outputs": [
    {
     "name": "stdout",
     "output_type": "stream",
     "text": [
      "Header looks like this:\n",
      "\n",
      "\"Date\",\"Temp\"\n",
      "\n",
      "First data point looks like this:\n",
      "\n",
      "\"1981-01-01\",20.7\n",
      "\n",
      "Second data point looks like this:\n",
      "\n",
      "\"1981-01-02\",17.9\n",
      "\n"
     ]
    }
   ],
   "source": [
    "TEMPERATURES_CSV = './data/daily-min-temperatures.csv'\n",
    "\n",
    "with open(TEMPERATURES_CSV, 'r') as csvfile:\n",
    "    print(f\"Header looks like this:\\n\\n{csvfile.readline()}\")    \n",
    "    print(f\"First data point looks like this:\\n\\n{csvfile.readline()}\")\n",
    "    print(f\"Second data point looks like this:\\n\\n{csvfile.readline()}\")"
   ]
  },
  {
   "cell_type": "code",
   "execution_count": 10,
   "metadata": {},
   "outputs": [
    {
     "ename": "AttributeError",
     "evalue": "'str' object has no attribute 'describe'",
     "output_type": "error",
     "traceback": [
      "\u001b[0;31m---------------------------------------------------------------------------\u001b[0m",
      "\u001b[0;31mAttributeError\u001b[0m                            Traceback (most recent call last)",
      "\u001b[0;32m<ipython-input-10-8ed17e0bddb7>\u001b[0m in \u001b[0;36m<module>\u001b[0;34m\u001b[0m\n\u001b[0;32m----> 1\u001b[0;31m \u001b[0mTEMPERATURES_CSV\u001b[0m\u001b[0;34m.\u001b[0m\u001b[0mdescribe\u001b[0m\u001b[0;34m(\u001b[0m\u001b[0;34m)\u001b[0m\u001b[0;34m\u001b[0m\u001b[0;34m\u001b[0m\u001b[0m\n\u001b[0m",
      "\u001b[0;31mAttributeError\u001b[0m: 'str' object has no attribute 'describe'"
     ]
    }
   ],
   "source": []
  },
  {
   "cell_type": "markdown",
   "metadata": {},
   "source": [
    "As you can see, each data point is composed of the date and the recorded minimum temperature for that date.\n",
    "\n",
    "\n",
    "In the first exercise you will code a function to read the data from the csv but for now run the next cell to load a helper function to plot the time series."
   ]
  },
  {
   "cell_type": "code",
   "execution_count": 3,
   "metadata": {
    "deletable": false,
    "editable": false,
    "id": "sLl52leVp5wU"
   },
   "outputs": [],
   "source": [
    "def plot_series(time, series, format=\"-\", start=0, end=None):\n",
    "    plt.plot(time[start:end], series[start:end], format)\n",
    "    plt.xlabel(\"Time\")\n",
    "    plt.ylabel(\"Value\")\n",
    "    plt.grid(True)"
   ]
  },
  {
   "cell_type": "markdown",
   "metadata": {},
   "source": [
    "## Parsing the raw data\n",
    "Now you need to read the data from the csv file. To do so, complete the `parse_data_from_file` function.\n",
    "\n",
    "A couple of things to note:\n",
    "\n",
    "- You should omit the first line as the file contains headers.\n",
    "- There is no need to save the data points as numpy arrays, regular lists is fine.\n",
    "- To read from csv files use `csv.reader` by passing the appropriate arguments.\n",
    "- `csv.reader` returns an iterable that returns each row in every iteration. So the temperature can be accessed via row[1] and the date can be discarded.\n",
    "- The `times` list should contain every timestep (starting at zero), which is just a sequence of ordered numbers with the same length as the `temperatures` list.\n",
    "- The values of the `temperatures` should be of `float` type. You can use Python's built-in `float` function to ensure this."
   ]
  },
  {
   "cell_type": "code",
   "execution_count": 22,
   "metadata": {
    "colab": {
     "base_uri": "https://localhost:8080/",
     "height": 388
    },
    "deletable": false,
    "id": "NcG9r1eClbTh",
    "outputId": "7acf6ba9-e852-4f06-e06e-b0ff1b9e2ddd"
   },
   "outputs": [],
   "source": [
    "def parse_data_from_file(filename):\n",
    "    \n",
    "    times = []\n",
    "    temperatures = []\n",
    "\n",
    "    with open(filename) as csvfile:\n",
    "        \n",
    "        ### START CODE HERE\n",
    "        \n",
    "        reader = csv.reader(csvfile, delimiter=',')\n",
    "        next(reader)  # Corrected to skip the header line\n",
    "\n",
    "        for idx, row in enumerate(reader):\n",
    "            try:\n",
    "                temperatures.append(float(row[1]))\n",
    "                times.append(idx)\n",
    "            except ValueError:\n",
    "                print(f\"Skipping row {idx}: {row}\")\n",
    "                continue\n",
    "\n",
    "    return times, temperatures"
   ]
  },
  {
   "cell_type": "markdown",
   "metadata": {},
   "source": [
    "The next cell will use your function to compute the `times` and `temperatures` and will save these as numpy arrays within the `G` dataclass. This cell will also plot the time series:"
   ]
  },
  {
   "cell_type": "code",
   "execution_count": 23,
   "metadata": {
    "deletable": false,
    "editable": false
   },
   "outputs": [
    {
     "data": {
      "image/png": "[encoded data removed]",
      "text/plain": [
       "<Figure size 720x432 with 1 Axes>"
      ]
     },
     "metadata": {
      "needs_background": "light"
     },
     "output_type": "display_data"
    }
   ],
   "source": [
    "# Test your function and save all \"global\" variables within the G class (G stands for global)\n",
    "@dataclass\n",
    "class G:\n",
    "    TEMPERATURES_CSV = './data/daily-min-temperatures.csv'\n",
    "    times, temperatures = parse_data_from_file(TEMPERATURES_CSV)\n",
    "    TIME = np.array(times)\n",
    "    SERIES = np.array(temperatures)\n",
    "    SPLIT_TIME = 2500\n",
    "    WINDOW_SIZE = 64\n",
    "    BATCH_SIZE = 32\n",
    "    SHUFFLE_BUFFER_SIZE = 1000\n",
    "\n",
    "\n",
    "plt.figure(figsize=(10, 6))\n",
    "plot_series(G.TIME, G.SERIES)\n",
    "plt.show()"
   ]
  },
  {
   "cell_type": "markdown",
   "metadata": {},
   "source": [
    "**Expected Output:**\n",
    "<div>\n",
    "<img src=\"images/temp-series.png\" width=\"500\"/>\n",
    "</div>"
   ]
  },
  {
   "cell_type": "markdown",
   "metadata": {},
   "source": [
    "## Processing the data\n",
    "\n",
    "Since you already coded the `train_val_split` and `windowed_dataset` functions during past week's assignments, this time they are provided for you:"
   ]
  },
  {
   "cell_type": "code",
   "execution_count": 24,
   "metadata": {
    "deletable": false,
    "editable": false
   },
   "outputs": [],
   "source": [
    "def train_val_split(time, series, time_step=G.SPLIT_TIME):\n",
    "\n",
    "    time_train = time[:time_step]\n",
    "    series_train = series[:time_step]\n",
    "    time_valid = time[time_step:]\n",
    "    series_valid = series[time_step:]\n",
    "\n",
    "    return time_train, series_train, time_valid, series_valid\n",
    "\n",
    "\n",
    "# Split the dataset\n",
    "time_train, series_train, time_valid, series_valid = train_val_split(G.TIME, G.SERIES)"
   ]
  },
  {
   "cell_type": "code",
   "execution_count": 25,
   "metadata": {
    "deletable": false,
    "editable": false,
    "id": "lJwUUZscnG38"
   },
   "outputs": [],
   "source": [
    "def windowed_dataset(series, window_size=G.WINDOW_SIZE, batch_size=G.BATCH_SIZE, shuffle_buffer=G.SHUFFLE_BUFFER_SIZE):\n",
    "    ds = tf.data.Dataset.from_tensor_slices(series)\n",
    "    ds = ds.window(window_size + 1, shift=1, drop_remainder=True)\n",
    "    ds = ds.flat_map(lambda w: w.batch(window_size + 1))\n",
    "    ds = ds.shuffle(shuffle_buffer)\n",
    "    ds = ds.map(lambda w: (w[:-1], w[-1]))\n",
    "    ds = ds.batch(batch_size).prefetch(1)\n",
    "    return ds\n",
    "\n",
    "\n",
    "# Apply the transformation to the training set\n",
    "train_set = windowed_dataset(series_train, window_size=G.WINDOW_SIZE, batch_size=G.BATCH_SIZE, shuffle_buffer=G.SHUFFLE_BUFFER_SIZE)"
   ]
  },
  {
   "cell_type": "markdown",
   "metadata": {},
   "source": [
    "## Defining the model architecture\n",
    "\n",
    "Now that you have a function that will process the data before it is fed into your neural network for training, it is time to define your layer architecture. Just as in last week's assignment you will do the layer definition and compilation in two separate steps. Begin by completing the `create_uncompiled_model` function below.\n",
    "\n",
    "This is done so you can reuse your model's layers for the learning rate adjusting and the actual training.\n",
    "\n",
    "Hint:\n",
    "\n",
    "- `Lambda` layers are not required.\n",
    "- Use a combination of `Conv1D` and `LSTM` layers followed by `Dense` layers"
   ]
  },
  {
   "cell_type": "code",
   "execution_count": 28,
   "metadata": {
    "deletable": false
   },
   "outputs": [],
   "source": [
    "def create_uncompiled_model():\n",
    "\n",
    "    ### START CODE HERE\n",
    "    \n",
    "    model = tf.keras.models.Sequential([ \n",
    "        tf.keras.layers.Conv1D(filters=32, kernel_size=5,\n",
    "                           strides=1, padding=\"causal\",  # Corrected to 'causal'\n",
    "                           activation='relu',\n",
    "                           input_shape=[None, 1]), \n",
    "        tf.keras.layers.LSTM(32, return_sequences=True),\n",
    "        tf.keras.layers.LSTM(32, return_sequences=False),\n",
    "        # Dense layer for prediction\n",
    "        tf.keras.layers.Dense(30, activation='relu'),\n",
    "        tf.keras.layers.Dense(10, activation='relu'),\n",
    "        tf.keras.layers.Dense(1)\n",
    "    ]) \n",
    "    \n",
    "    ### END CODE HERE\n",
    "\n",
    "    return model"
   ]
  },
  {
   "cell_type": "markdown",
   "metadata": {},
   "source": [
    "You can test your model with the code below. If you get an error, it's likely that your model is returning a sequence. You can indeed use an LSTM with `return_sequences=True` but you have to feed it into another layer that generates a single prediction. You can review the lectures or the previous ungraded labs to see how that is done."
   ]
  },
  {
   "cell_type": "code",
   "execution_count": 29,
   "metadata": {
    "deletable": false,
    "editable": false
   },
   "outputs": [
    {
     "name": "stdout",
     "output_type": "stream",
     "text": [
      "Testing model prediction with input of shape (32, 64)...\n",
      "Your current architecture is compatible with the windowed dataset! :)\n"
     ]
    }
   ],
   "source": [
    "# Test your uncompiled model\n",
    "\n",
    "# Create an instance of the model\n",
    "uncompiled_model = create_uncompiled_model()\n",
    "\n",
    "# Get one batch of the training set(X = input, y = label)\n",
    "for X, y in train_set.take(1):\n",
    "    \n",
    "    # Generate a prediction\n",
    "    print(f'Testing model prediction with input of shape {X.shape}...')\n",
    "    y_pred = uncompiled_model.predict(X)\n",
    "    \n",
    "# Compare the shape of the prediction and the label y (remove dimensions of size 1)\n",
    "y_pred_shape = y_pred.squeeze().shape\n",
    "\n",
    "assert y_pred_shape == y.shape, (f'Squeezed predicted y shape = {y_pred_shape} '\n",
    "                                           f'whereas actual y shape = {y.shape}.')\n",
    "\n",
    "print(\"Your current architecture is compatible with the windowed dataset! :)\")"
   ]
  },
  {
   "cell_type": "markdown",
   "metadata": {},
   "source": [
    "## Adjusting the learning rate - (Optional Exercise)\n",
    "\n",
    "As you saw in the lectures, you can leverage Tensorflow's callbacks to dynamically vary the learning rate before doing the actual training. This can be helpful in finding what value works best with your model. Note that this is only one way of finding the best learning rate. There are other techniques for hyperparameter optimization but it is outside the scope of this course.\n",
    "\n",
    "For the optimizers you can try out:\n",
    "\n",
    "- tf.keras.optimizers.Adam\n",
    "- tf.keras.optimizers.SGD with a momentum of 0.9"
   ]
  },
  {
   "cell_type": "code",
   "execution_count": null,
   "metadata": {
    "deletable": false
   },
   "outputs": [],
   "source": [
    "def adjust_learning_rate(dataset):\n",
    "    \n",
    "    model = create_uncompiled_model()\n",
    "    \n",
    "    lr_schedule = tf.keras.callbacks.LearningRateScheduler(lambda epoch: 1e-4 * 10**(epoch / 20))\n",
    "    \n",
    "    ### START CODE HERE\n",
    "    \n",
    "    # Select your optimizer\n",
    "    optimizer = None\n",
    "    \n",
    "    # Compile the model passing in the appropriate loss\n",
    "    model.compile(loss=None,\n",
    "                  optimizer=optimizer, \n",
    "                  metrics=[\"mae\"]) \n",
    "    \n",
    "    ### END CODE HERE\n",
    "    \n",
    "    history = model.fit(dataset, epochs=100, callbacks=[lr_schedule])\n",
    "    \n",
    "    return history"
   ]
  },
  {
   "cell_type": "code",
   "execution_count": null,
   "metadata": {
    "deletable": false,
    "editable": false
   },
   "outputs": [],
   "source": [
    "# Run the training with dynamic LR\n",
    "lr_history = adjust_learning_rate(train_set)"
   ]
  },
  {
   "cell_type": "code",
   "execution_count": null,
   "metadata": {
    "colab": {
     "base_uri": "https://localhost:8080/",
     "height": 290
    },
    "deletable": false,
    "editable": false,
    "id": "vVcKmg7Q_7rD",
    "outputId": "27cf16ae-eb85-47c3-fc86-18e72e528619"
   },
   "outputs": [],
   "source": [
    "plt.semilogx(lr_history.history[\"lr\"], lr_history.history[\"loss\"])\n",
    "plt.axis([1e-4, 10, 0, 10])"
   ]
  },
  {
   "cell_type": "markdown",
   "metadata": {},
   "source": [
    "## Compiling the model\n",
    "Now that you have trained the model while varying the learning rate, it is time to do the actual training that will be used to forecast the time series. For this complete the `create_model` function below.\n",
    "\n",
    "Notice that you are reusing the architecture you defined in the `create_uncompiled_model` earlier. Now you only need to compile this model using the appropriate loss, optimizer (and learning rate).\n",
    "\n",
    "Hints:\n",
    "\n",
    "- The training should be really quick so if you notice that each epoch is taking more than a few seconds, consider trying a different architecture.\n",
    "\n",
    "\n",
    "- If after the first epoch you get an output like this: loss: nan - mae: nan it is very likely that your network is suffering from exploding gradients. This is a common problem if you used SGD as optimizer and set a learning rate that is too high. If you encounter this problem consider lowering the learning rate or using Adam with the default learning rate."
   ]
  },
  {
   "cell_type": "code",
   "execution_count": 30,
   "metadata": {
    "deletable": false
   },
   "outputs": [],
   "source": [
    "def create_model():\n",
    "\n",
    "    \n",
    "    model = create_uncompiled_model()\n",
    "\n",
    "    ### START CODE HERE\n",
    "\n",
    "    model.compile(loss='mse',\n",
    "                  optimizer=tf.keras.optimizers.Adam(),\n",
    "                  metrics=[\"mae\"])  \n",
    "    \n",
    "\n",
    "    ### END CODE HERE\n",
    "\n",
    "    return model"
   ]
  },
  {
   "cell_type": "code",
   "execution_count": 31,
   "metadata": {
    "deletable": false
   },
   "outputs": [
    {
     "name": "stdout",
     "output_type": "stream",
     "text": [
      "Epoch 1/50\n",
      "77/77 [==============================] - 8s 63ms/step - loss: 83.1719 - mae: 8.0360\n",
      "Epoch 2/50\n",
      "77/77 [==============================] - 5s 58ms/step - loss: 18.5345 - mae: 3.4155\n",
      "Epoch 3/50\n",
      "77/77 [==============================] - 4s 56ms/step - loss: 15.7957 - mae: 3.1729\n",
      "Epoch 4/50\n",
      "77/77 [==============================] - 4s 56ms/step - loss: 12.8468 - mae: 2.7970\n",
      "Epoch 5/50\n",
      "77/77 [==============================] - 4s 52ms/step - loss: 9.1051 - mae: 2.3440\n",
      "Epoch 6/50\n",
      "77/77 [==============================] - 4s 52ms/step - loss: 8.0663 - mae: 2.2115\n",
      "Epoch 7/50\n",
      "77/77 [==============================] - 4s 52ms/step - loss: 7.2886 - mae: 2.1025\n",
      "Epoch 8/50\n",
      "77/77 [==============================] - 4s 52ms/step - loss: 6.9514 - mae: 2.0516\n",
      "Epoch 9/50\n",
      "77/77 [==============================] - 4s 52ms/step - loss: 6.7625 - mae: 2.0282\n",
      "Epoch 10/50\n",
      "77/77 [==============================] - 4s 51ms/step - loss: 6.3269 - mae: 1.9644\n",
      "Epoch 11/50\n",
      "77/77 [==============================] - 4s 52ms/step - loss: 6.3768 - mae: 1.9866\n",
      "Epoch 12/50\n",
      "77/77 [==============================] - 4s 51ms/step - loss: 6.3180 - mae: 1.9665\n",
      "Epoch 13/50\n",
      "77/77 [==============================] - 4s 51ms/step - loss: 6.1972 - mae: 1.9473\n",
      "Epoch 14/50\n",
      "77/77 [==============================] - 4s 52ms/step - loss: 6.3294 - mae: 1.9703\n",
      "Epoch 15/50\n",
      "77/77 [==============================] - 4s 52ms/step - loss: 6.3431 - mae: 1.9677\n",
      "Epoch 16/50\n",
      "77/77 [==============================] - 4s 51ms/step - loss: 6.1264 - mae: 1.9378\n",
      "Epoch 17/50\n",
      "77/77 [==============================] - 4s 51ms/step - loss: 6.1732 - mae: 1.9431\n",
      "Epoch 18/50\n",
      "77/77 [==============================] - 4s 54ms/step - loss: 6.0768 - mae: 1.9255\n",
      "Epoch 19/50\n",
      "77/77 [==============================] - 4s 53ms/step - loss: 6.0205 - mae: 1.9149\n",
      "Epoch 20/50\n",
      "77/77 [==============================] - 4s 52ms/step - loss: 6.0263 - mae: 1.9179\n",
      "Epoch 21/50\n",
      "77/77 [==============================] - 4s 51ms/step - loss: 6.0841 - mae: 1.9284\n",
      "Epoch 22/50\n",
      "77/77 [==============================] - 4s 52ms/step - loss: 5.9957 - mae: 1.9126\n",
      "Epoch 23/50\n",
      "77/77 [==============================] - 4s 51ms/step - loss: 6.2007 - mae: 1.9474\n",
      "Epoch 24/50\n",
      "77/77 [==============================] - 4s 51ms/step - loss: 6.1371 - mae: 1.9309\n",
      "Epoch 25/50\n",
      "77/77 [==============================] - 4s 50ms/step - loss: 6.1799 - mae: 1.9427\n",
      "Epoch 26/50\n",
      "77/77 [==============================] - 4s 51ms/step - loss: 6.0299 - mae: 1.9138\n",
      "Epoch 27/50\n",
      "77/77 [==============================] - 4s 51ms/step - loss: 5.9527 - mae: 1.8984\n",
      "Epoch 28/50\n",
      "77/77 [==============================] - 4s 50ms/step - loss: 5.9932 - mae: 1.9118\n",
      "Epoch 29/50\n",
      "77/77 [==============================] - 4s 54ms/step - loss: 6.0529 - mae: 1.9210\n",
      "Epoch 30/50\n",
      "77/77 [==============================] - 4s 52ms/step - loss: 6.1202 - mae: 1.9369\n",
      "Epoch 31/50\n",
      "77/77 [==============================] - 4s 51ms/step - loss: 5.8715 - mae: 1.8807\n",
      "Epoch 32/50\n",
      "77/77 [==============================] - 4s 51ms/step - loss: 5.9329 - mae: 1.9033\n",
      "Epoch 33/50\n",
      "77/77 [==============================] - 4s 52ms/step - loss: 6.0737 - mae: 1.9281\n",
      "Epoch 34/50\n",
      "77/77 [==============================] - 4s 53ms/step - loss: 5.8691 - mae: 1.8969\n",
      "Epoch 35/50\n",
      "77/77 [==============================] - 4s 51ms/step - loss: 5.9068 - mae: 1.9046\n",
      "Epoch 36/50\n",
      "77/77 [==============================] - 4s 51ms/step - loss: 5.8476 - mae: 1.8823\n",
      "Epoch 37/50\n",
      "77/77 [==============================] - 4s 51ms/step - loss: 5.9090 - mae: 1.8947\n",
      "Epoch 38/50\n",
      "77/77 [==============================] - 4s 51ms/step - loss: 6.1274 - mae: 1.9420\n",
      "Epoch 39/50\n",
      "77/77 [==============================] - 4s 51ms/step - loss: 5.8767 - mae: 1.8864\n",
      "Epoch 40/50\n",
      "77/77 [==============================] - 4s 51ms/step - loss: 5.9491 - mae: 1.9095\n",
      "Epoch 41/50\n",
      "77/77 [==============================] - 4s 53ms/step - loss: 5.8794 - mae: 1.8868\n",
      "Epoch 42/50\n",
      "77/77 [==============================] - 4s 51ms/step - loss: 5.9448 - mae: 1.9022\n",
      "Epoch 43/50\n",
      "77/77 [==============================] - 4s 54ms/step - loss: 5.9122 - mae: 1.8946\n",
      "Epoch 44/50\n",
      "77/77 [==============================] - 4s 57ms/step - loss: 5.7883 - mae: 1.8784\n",
      "Epoch 45/50\n",
      "77/77 [==============================] - 4s 56ms/step - loss: 5.8577 - mae: 1.8886\n",
      "Epoch 46/50\n",
      "77/77 [==============================] - 4s 56ms/step - loss: 5.9901 - mae: 1.9008\n",
      "Epoch 47/50\n",
      "77/77 [==============================] - 4s 55ms/step - loss: 5.8186 - mae: 1.8753\n",
      "Epoch 48/50\n",
      "77/77 [==============================] - 4s 56ms/step - loss: 5.7337 - mae: 1.8782\n",
      "Epoch 49/50\n",
      "77/77 [==============================] - 4s 55ms/step - loss: 5.8386 - mae: 1.8875\n",
      "Epoch 50/50\n",
      "77/77 [==============================] - 4s 56ms/step - loss: 5.8877 - mae: 1.8851\n"
     ]
    }
   ],
   "source": [
    "# Save an instance of the model\n",
    "model = create_model()\n",
    "\n",
    "# Train it\n",
    "history = model.fit(train_set, epochs=50)"
   ]
  },
  {
   "cell_type": "markdown",
   "metadata": {},
   "source": [
    "## Evaluating the forecast\n",
    "\n",
    "Now it is time to evaluate the performance of the forecast. For this you can use the `compute_metrics` function that you coded in a previous assignment:"
   ]
  },
  {
   "cell_type": "code",
   "execution_count": 32,
   "metadata": {
    "deletable": false,
    "editable": false
   },
   "outputs": [],
   "source": [
    "def compute_metrics(true_series, forecast):\n",
    "    \n",
    "    mse = tf.keras.metrics.mean_squared_error(true_series, forecast).numpy()\n",
    "    mae = tf.keras.metrics.mean_absolute_error(true_series, forecast).numpy()\n",
    "\n",
    "    return mse, mae"
   ]
  },
  {
   "cell_type": "markdown",
   "metadata": {},
   "source": [
    "At this point only the model that will perform the forecast is ready but you still need to compute the actual forecast.\n",
    "\n"
   ]
  },
  {
   "cell_type": "markdown",
   "metadata": {},
   "source": [
    "## Faster model forecasts\n",
    "\n",
    "In the previous week you saw a faster approach compared to using a for loop to compute the forecasts for every point in the sequence. Remember that this faster approach uses batches of data. \n",
    "\n",
    "The code to implement this is provided in the `model_forecast` below. Notice that the code is very similar to the one in the `windowed_dataset` function with the differences that:\n",
    "- The dataset is windowed using `window_size` rather than `window_size + 1`\n",
    "- No shuffle should be used\n",
    "- No need to split the data into features and labels\n",
    "- A model is used to predict batches of the dataset"
   ]
  },
  {
   "cell_type": "code",
   "execution_count": 33,
   "metadata": {
    "deletable": false,
    "editable": false,
    "id": "4XwGrf-A_wF0"
   },
   "outputs": [],
   "source": [
    "def model_forecast(model, series, window_size):\n",
    "    ds = tf.data.Dataset.from_tensor_slices(series)\n",
    "    ds = ds.window(window_size, shift=1, drop_remainder=True)\n",
    "    ds = ds.flat_map(lambda w: w.batch(window_size))\n",
    "    ds = ds.batch(32).prefetch(1)\n",
    "    forecast = model.predict(ds)\n",
    "    return forecast"
   ]
  },
  {
   "cell_type": "markdown",
   "metadata": {},
   "source": [
    "Now compute the actual forecast:\n",
    "\n",
    "**Note:** Don't modify the cell below. \n",
    "\n",
    "The grader uses the same slicing to get the forecast so if you change the cell below you risk having issues when submitting your model for grading."
   ]
  },
  {
   "cell_type": "code",
   "execution_count": 34,
   "metadata": {
    "colab": {
     "base_uri": "https://localhost:8080/",
     "height": 389
    },
    "deletable": false,
    "editable": false,
    "id": "PrktQX3hKYex",
    "outputId": "1914662d-6bdd-4e17-8697-8f5a29e89b87"
   },
   "outputs": [
    {
     "data": {
      "image/png": "[encoded data removed]",
      "text/plain": [
       "<Figure size 720x432 with 1 Axes>"
      ]
     },
     "metadata": {
      "needs_background": "light"
     },
     "output_type": "display_data"
    }
   ],
   "source": [
    "# Compute the forecast for all the series\n",
    "rnn_forecast = model_forecast(model, G.SERIES, G.WINDOW_SIZE).squeeze()\n",
    "\n",
    "# Slice the forecast to get only the predictions for the validation set\n",
    "rnn_forecast = rnn_forecast[G.SPLIT_TIME - G.WINDOW_SIZE:-1]\n",
    "\n",
    "# Plot the forecast\n",
    "plt.figure(figsize=(10, 6))\n",
    "plot_series(time_valid, series_valid)\n",
    "plot_series(time_valid, rnn_forecast)"
   ]
  },
  {
   "cell_type": "code",
   "execution_count": 35,
   "metadata": {
    "deletable": false,
    "editable": false
   },
   "outputs": [
    {
     "name": "stdout",
     "output_type": "stream",
     "text": [
      "mse: 5.51, mae: 1.86 for forecast\n"
     ]
    }
   ],
   "source": [
    "mse, mae = compute_metrics(series_valid, rnn_forecast)\n",
    "\n",
    "print(f\"mse: {mse:.2f}, mae: {mae:.2f} for forecast\")"
   ]
  },
  {
   "cell_type": "markdown",
   "metadata": {},
   "source": [
    "**To pass this assignment your forecast should achieve a MSE of 6 or less and a MAE of 2 or less.**\n",
    "\n",
    "- If your forecast didn't achieve this threshold try re-training your model with a different architecture (you will need to re-run both `create_uncompiled_model` and `create_model` functions) or tweaking the optimizer's parameters.\n",
    "\n",
    "\n",
    "- If your forecast did achieve this threshold run the following cell to save the model in the SavedModel format which will be used for grading and after doing so, submit your assigment for grading.\n",
    "\n",
    "\n",
    "- This environment includes a dummy SavedModel directory which contains a dummy model trained for one epoch. **To replace this file with your actual model you need to run the next cell before submitting for grading.**"
   ]
  },
  {
   "cell_type": "code",
   "execution_count": 36,
   "metadata": {
    "deletable": false,
    "editable": false
   },
   "outputs": [
    {
     "name": "stdout",
     "output_type": "stream",
     "text": [
      "INFO:tensorflow:Assets written to: saved_model/my_model/assets\n"
     ]
    },
    {
     "name": "stderr",
     "output_type": "stream",
     "text": [
      "INFO:tensorflow:Assets written to: saved_model/my_model/assets\n"
     ]
    },
    {
     "name": "stdout",
     "output_type": "stream",
     "text": [
      "saved_model/\n",
      "saved_model/my_model/\n",
      "saved_model/my_model/keras_metadata.pb\n",
      "saved_model/my_model/variables/\n",
      "saved_model/my_model/variables/variables.data-00000-of-00001\n",
      "saved_model/my_model/variables/variables.index\n",
      "saved_model/my_model/saved_model.pb\n",
      "saved_model/my_model/assets/\n"
     ]
    }
   ],
   "source": [
    "# Save your model in the SavedModel format\n",
    "model.save('saved_model/my_model')\n",
    "\n",
    "# Compress the directory using tar\n",
    "! tar -czvf saved_model.tar.gz saved_model/"
   ]
  },
  {
   "cell_type": "markdown",
   "metadata": {},
   "source": [
    "**Congratulations on finishing this week's assignment!**\n",
    "\n",
    "You have successfully implemented a neural network capable of forecasting time series leveraging a combination of Tensorflow's layers such as Convolutional and LSTMs! This resulted in a forecast that surpasses all the ones you did previously.\n",
    "\n",
    "**By finishing this assignment you have finished the specialization! Give yourself a pat on the back!!!**"
   ]
  },
  {
   "cell_type": "markdown",
   "metadata": {},
   "source": [
    "<details>\n",
    "  <summary><font size=\"2\" color=\"darkgreen\"><b>Please click here if you want to experiment with any of the non-graded code.</b></font></summary>\n",
    "    <p><i><b>Important Note: Please only do this when you've already passed the assignment to avoid problems with the autograder.</b></i>\n",
    "    <ol>\n",
    "        <li> On the notebook’s menu, click “View” > “Cell Toolbar” > “Edit Metadata”</li>\n",
    "        <li> Hit the “Edit Metadata” button next to the code cell which you want to lock/unlock</li>\n",
    "        <li> Set the attribute value for “editable” to:\n",
    "            <ul>\n",
    "                <li> “true” if you want to unlock it </li>\n",
    "                <li> “false” if you want to lock it </li>\n",
    "            </ul>\n",
    "        </li>\n",
    "        <li> On the notebook’s menu, click “View” > “Cell Toolbar” > “None” </li>\n",
    "    </ol>\n",
    "    <p> Here's a short demo of how to do the steps above: \n",
    "        <br>\n",
    "        <img src=\"https://drive.google.com/uc?export=view&id=14Xy_Mb17CZVgzVAgq7NCjMVBvSae3xO1\" align=\"center\">\n",
    "</details>"
   ]
  }
 ],
 "metadata": {
  "kernelspec": {
   "display_name": "Python 3",
   "language": "python",
   "name": "python3"
  },
  "language_info": {
   "codemirror_mode": {
    "name": "ipython",
    "version": 3
   },
   "file_extension": ".py",
   "mimetype": "text/x-python",
   "name": "python",
   "nbconvert_exporter": "python",
   "pygments_lexer": "ipython3",
   "version": "3.8.8"
  }
 },
 "nbformat": 4,
 "nbformat_minor": 1
}
